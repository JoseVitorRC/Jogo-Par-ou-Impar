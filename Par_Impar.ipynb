{
  "nbformat": 4,
  "nbformat_minor": 0,
  "metadata": {
    "colab": {
      "provenance": [],
      "authorship_tag": "ABX9TyPbeC8uTwDrzOcDcFZuDIP+",
      "include_colab_link": true
    },
    "kernelspec": {
      "name": "python3",
      "display_name": "Python 3"
    },
    "language_info": {
      "name": "python"
    }
  },
  "cells": [
    {
      "cell_type": "markdown",
      "metadata": {
        "id": "view-in-github",
        "colab_type": "text"
      },
      "source": [
        "<a href=\"https://colab.research.google.com/github/JoseVitorRC/Jogo-Par-ou-Impar/blob/main/Par_Impar.ipynb\" target=\"_parent\"><img src=\"https://colab.research.google.com/assets/colab-badge.svg\" alt=\"Open In Colab\"/></a>"
      ]
    },
    {
      "cell_type": "code",
      "execution_count": 13,
      "metadata": {
        "colab": {
          "base_uri": "https://localhost:8080/"
        },
        "collapsed": true,
        "id": "5B5fQuNu3TDC",
        "outputId": "e5a6adde-6678-4407-e404-78642e0483f1"
      },
      "outputs": [
        {
          "output_type": "stream",
          "name": "stdout",
          "text": [
            "Jogo Par ou Ímpar bem maneiro!!\n",
            "Informe seu nome: José Vítor\n",
            "\n",
            "Digite um número de 0 a 10: 9\n",
            "\n",
            "Par ou Impar? par\n",
            "\n",
            "Infelizmente José Vítor, Você perdeu!\n",
            "O resultado foi: 15 (Impar)\n",
            "Deseja jogar novamente? (s/n): s\n",
            "Informe seu nome: Jose Vitor\n",
            "\n",
            "Digite um número de 0 a 10: 0\n",
            "\n",
            "Par ou Impar? impar\n",
            "\n",
            "Parabéns Jose Vitor, Você ganhou!\n",
            "O resultado foi: 1 (Impar)\n",
            "Deseja jogar novamente? (s/n): n\n",
            "Valeu pela jogatina! Beba água.\n"
          ]
        }
      ],
      "source": [
        "import random\n",
        "\n",
        "def validar_numero(numero):\n",
        "    try:\n",
        "        numero = int(numero)\n",
        "        if 0 <= numero <= 10:\n",
        "            return numero\n",
        "        else:\n",
        "            raise ValueError(\"Número inválido! Digite um número entre 0 e 10.\")\n",
        "    except ValueError as e:\n",
        "        print(e)\n",
        "        return None\n",
        "\n",
        "def validar_escolha(escolha):\n",
        "    if escolha in ['Par', 'Impar']:\n",
        "        return escolha\n",
        "    else:\n",
        "        print(\"Escolha inválida! Digite 'Par' ou 'Impar'.\")\n",
        "        return None\n",
        "\n",
        "def jogar_novamente():\n",
        "    while True:\n",
        "        opcao = input(\"\\nDeseja jogar novamente? (s/n): \").strip().lower()\n",
        "        if opcao == 's':\n",
        "            return True\n",
        "        elif opcao == 'n':\n",
        "            print(\"\\nValeu pela jogatina! Beba água.\")\n",
        "            return False\n",
        "        else:\n",
        "            print(\"Resposta inválida! Digite 's' para sim ou 'n' para não.\")\n",
        "\n",
        "def jogo():\n",
        "    print(\"Jogo Par ou Ímpar bem maneiro!!\")\n",
        "    while True:\n",
        "        nome = input(\"Informe seu nome: \")\n",
        "        numero_usuario = None\n",
        "        while numero_usuario is None:\n",
        "            numero_usuario = input(\"\\nDigite um número de 0 a 10: \")\n",
        "            numero_usuario = validar_numero(numero_usuario)\n",
        "\n",
        "        escolha_usuario = None\n",
        "        while escolha_usuario is None:\n",
        "            escolha_usuario = input(\"\\nPar ou Impar? \").strip().capitalize()\n",
        "            escolha_usuario = validar_escolha(escolha_usuario)\n",
        "\n",
        "        numero_computador = random.randint(0, 10)\n",
        "        resultado_final = numero_usuario + numero_computador\n",
        "        resultado_tipo = \"Par\" if resultado_final % 2 == 0 else \"Impar\"\n",
        "\n",
        "        if escolha_usuario == resultado_tipo:\n",
        "            print(f\"\\nParabéns {nome}, Você ganhou!\\nO resultado foi: {resultado_final} ({resultado_tipo})\")\n",
        "        else:\n",
        "            print(f\"\\nInfelizmente {nome}, Você perdeu!\\nO resultado foi: {resultado_final} ({resultado_tipo})\")\n",
        "\n",
        "        if not jogar_novamente():\n",
        "            break\n",
        "\n",
        "if __name__ == \"__main__\":\n",
        "    jogo()\n"
      ]
    }
  ]
}